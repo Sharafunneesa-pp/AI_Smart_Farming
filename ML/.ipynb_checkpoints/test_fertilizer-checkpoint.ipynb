{
 "cells": [
  {
   "cell_type": "code",
   "execution_count": 20,
   "id": "ace2f080",
   "metadata": {},
   "outputs": [],
   "source": [
    "import pandas as pd\n",
    "import joblib as jb"
   ]
  },
  {
   "cell_type": "code",
   "execution_count": 21,
   "id": "215cfe25",
   "metadata": {},
   "outputs": [],
   "source": [
    "model=jb.load('ftlzr_rf.pkl')"
   ]
  },
  {
   "cell_type": "code",
   "execution_count": 22,
   "id": "7974c62c",
   "metadata": {},
   "outputs": [
    {
     "data": {
      "text/html": [
       "<div>\n",
       "<style scoped>\n",
       "    .dataframe tbody tr th:only-of-type {\n",
       "        vertical-align: middle;\n",
       "    }\n",
       "\n",
       "    .dataframe tbody tr th {\n",
       "        vertical-align: top;\n",
       "    }\n",
       "\n",
       "    .dataframe thead th {\n",
       "        text-align: right;\n",
       "    }\n",
       "</style>\n",
       "<table border=\"1\" class=\"dataframe\">\n",
       "  <thead>\n",
       "    <tr style=\"text-align: right;\">\n",
       "      <th></th>\n",
       "      <th>Temparature</th>\n",
       "      <th>Humidity</th>\n",
       "      <th>Moisture</th>\n",
       "      <th>Soil Type</th>\n",
       "      <th>Crop Type</th>\n",
       "      <th>Nitrogen</th>\n",
       "      <th>Potassium</th>\n",
       "      <th>Phosphorous</th>\n",
       "    </tr>\n",
       "  </thead>\n",
       "  <tbody>\n",
       "    <tr>\n",
       "      <th>0</th>\n",
       "      <td>32</td>\n",
       "      <td>62</td>\n",
       "      <td>41</td>\n",
       "      <td>Clayey</td>\n",
       "      <td>Paddy</td>\n",
       "      <td>24</td>\n",
       "      <td>0</td>\n",
       "      <td>22</td>\n",
       "    </tr>\n",
       "  </tbody>\n",
       "</table>\n",
       "</div>"
      ],
      "text/plain": [
       "   Temparature  Humidity   Moisture Soil Type Crop Type  Nitrogen  Potassium  \\\n",
       "0           32         62        41    Clayey     Paddy        24          0   \n",
       "\n",
       "   Phosphorous  \n",
       "0           22  "
      ]
     },
     "execution_count": 22,
     "metadata": {},
     "output_type": "execute_result"
    }
   ],
   "source": [
    "df=pd.read_csv('test_ftlzr.csv')\n",
    "df"
   ]
  },
  {
   "cell_type": "code",
   "execution_count": 23,
   "id": "c8555aa2",
   "metadata": {},
   "outputs": [
    {
     "data": {
      "text/plain": [
       "{'Soil Type': {'Sandy': 0, 'Loamy': 1, 'Black': 2, 'Red': 3, 'Clayey': 4},\n",
       " 'Crop Type': {'Maize': 0,\n",
       "  'Sugarcane': 1,\n",
       "  'Cotton': 2,\n",
       "  'Tobacco': 3,\n",
       "  'Paddy': 4,\n",
       "  'Barley': 5,\n",
       "  'Wheat': 6,\n",
       "  'Millets': 7,\n",
       "  'Oil seeds': 8,\n",
       "  'Pulses': 9,\n",
       "  'Ground Nuts': 10},\n",
       " 'Fertilizer Name': {'Urea': 0,\n",
       "  'DAP': 1,\n",
       "  '14-35-14': 2,\n",
       "  '28-28': 3,\n",
       "  '17-17-17': 4,\n",
       "  '20-20': 5,\n",
       "  '10-26-26': 6}}"
      ]
     },
     "execution_count": 23,
     "metadata": {},
     "output_type": "execute_result"
    }
   ],
   "source": [
    "with open(\"map_ftlzr.txt\", \"r\") as file:\n",
    "    maps = file.read()\n",
    "    maps = eval(maps)\n",
    "maps\n"
   ]
  },
  {
   "cell_type": "code",
   "execution_count": 24,
   "id": "a1d0520c",
   "metadata": {},
   "outputs": [
    {
     "data": {
      "text/html": [
       "<div>\n",
       "<style scoped>\n",
       "    .dataframe tbody tr th:only-of-type {\n",
       "        vertical-align: middle;\n",
       "    }\n",
       "\n",
       "    .dataframe tbody tr th {\n",
       "        vertical-align: top;\n",
       "    }\n",
       "\n",
       "    .dataframe thead th {\n",
       "        text-align: right;\n",
       "    }\n",
       "</style>\n",
       "<table border=\"1\" class=\"dataframe\">\n",
       "  <thead>\n",
       "    <tr style=\"text-align: right;\">\n",
       "      <th></th>\n",
       "      <th>Temparature</th>\n",
       "      <th>Humidity</th>\n",
       "      <th>Moisture</th>\n",
       "      <th>Soil Type</th>\n",
       "      <th>Crop Type</th>\n",
       "      <th>Nitrogen</th>\n",
       "      <th>Potassium</th>\n",
       "      <th>Phosphorous</th>\n",
       "    </tr>\n",
       "  </thead>\n",
       "  <tbody>\n",
       "    <tr>\n",
       "      <th>0</th>\n",
       "      <td>32</td>\n",
       "      <td>62</td>\n",
       "      <td>41</td>\n",
       "      <td>4</td>\n",
       "      <td>4</td>\n",
       "      <td>24</td>\n",
       "      <td>0</td>\n",
       "      <td>22</td>\n",
       "    </tr>\n",
       "  </tbody>\n",
       "</table>\n",
       "</div>"
      ],
      "text/plain": [
       "   Temparature  Humidity   Moisture  Soil Type  Crop Type  Nitrogen  \\\n",
       "0           32         62        41          4          4        24   \n",
       "\n",
       "   Potassium  Phosphorous  \n",
       "0          0           22  "
      ]
     },
     "execution_count": 24,
     "metadata": {},
     "output_type": "execute_result"
    }
   ],
   "source": [
    "for i in [\"Soil Type\",\"Crop Type\"]:\n",
    "    df[i].replace(maps[i],inplace=True)\n",
    "df"
   ]
  },
  {
   "cell_type": "code",
   "execution_count": 25,
   "id": "375598d9",
   "metadata": {},
   "outputs": [],
   "source": [
    "                                                                                                                                                                                                                                                                      m"
   ]
  },
  {
   "cell_type": "code",
   "execution_count": 26,
   "id": "aa1e83bc",
   "metadata": {},
   "outputs": [
    {
     "data": {
      "text/plain": [
       "{'Urea': 0,\n",
       " 'DAP': 1,\n",
       " '14-35-14': 2,\n",
       " '28-28': 3,\n",
       " '17-17-17': 4,\n",
       " '20-20': 5,\n",
       " '10-26-26': 6}"
      ]
     },
     "execution_count": 26,
     "metadata": {},
     "output_type": "execute_result"
    }
   ],
   "source": [
    "fertilizer_dict = {key: value for key, value in maps['Fertilizer Name'].items()}\n",
    "fertilizer_dict"
   ]
  },
  {
   "cell_type": "code",
   "execution_count": 27,
   "id": "f764dbbe",
   "metadata": {},
   "outputs": [],
   "source": [
    "def get_fertilizer_name(value):\n",
    "    for key, val in fertilizer_dict.items():\n",
    "        if val == value:\n",
    "            return key\n",
    "    return None "
   ]
  },
  {
   "cell_type": "code",
   "execution_count": 28,
   "id": "85a511f8",
   "metadata": {},
   "outputs": [
    {
     "name": "stdout",
     "output_type": "stream",
     "text": [
      "28-28\n"
     ]
    }
   ],
   "source": [
    "fertilizer_value = ans\n",
    "fertilizer_name = get_fertilizer_name(fertilizer_value)\n",
    "print(fertilizer_name)"
   ]
  },
  {
   "cell_type": "code",
   "execution_count": null,
   "id": "126cb7ff",
   "metadata": {},
   "outputs": [],
   "source": []
  },
  {
   "cell_type": "code",
   "execution_count": null,
   "id": "c8a72097",
   "metadata": {},
   "outputs": [],
   "source": []
  }
 ],
 "metadata": {
  "kernelspec": {
   "display_name": "Python 3",
   "language": "python",
   "name": "python3"
  },
  "language_info": {
   "codemirror_mode": {
    "name": "ipython",
    "version": 3
   },
   "file_extension": ".py",
   "mimetype": "text/x-python",
   "name": "python",
   "nbconvert_exporter": "python",
   "pygments_lexer": "ipython3",
   "version": "3.6.5"
  }
 },
 "nbformat": 4,
 "nbformat_minor": 5
}
